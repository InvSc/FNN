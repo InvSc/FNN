{
 "nbformat": 4,
 "nbformat_minor": 0,
 "metadata": {
  "colab": {
   "name": "数据预处理.ipynb",
   "provenance": [],
   "collapsed_sections": [],
   "toc_visible": true
  },
  "kernelspec": {
   "name": "python3",
   "language": "python",
   "display_name": "Python 3"
  }
 },
 "cells": [
  {
   "cell_type": "code",
   "metadata": {
    "id": "jvBFuhVfRkoQ",
    "colab_type": "code",
    "colab": {
     "base_uri": "https://localhost:8080/",
     "height": 265
    },
    "outputId": "3b1adad4-9096-4615-a4b6-e49fab1bf350"
   },
   "source": [
    "# 数据读入\n",
    "import matplotlib as mlp\n",
    "import pandas as pd\n",
    "import numpy as np\n",
    "dataset = 'gsdtsr'\n",
    "df = pd.read_csv('./' + dataset + '.csv', sep=',', parse_dates=['LastRun'])\n",
    "print(df)"
   ],
   "execution_count": 3,
   "outputs": [
    {
     "name": "stdout",
     "output_type": "stream",
     "text": [
      "            Id  Name  Duration  CalcPrio             LastRun  \\\n",
      "0       548888  1400       450         0 2016-01-10 03:37:20   \n",
      "1       195761   457     95430         0 2016-01-04 19:33:07   \n",
      "2       250961   559      6088         0 2016-01-13 15:49:38   \n",
      "3       685761  2415       330         0 2016-01-15 16:57:02   \n",
      "4      1058480  4496     26751         0 2016-01-06 01:07:20   \n",
      "...        ...   ...       ...       ...                 ...   \n",
      "12601   627216  2013       344         0 2016-01-09 20:25:53   \n",
      "12602   875511  3450      1052         0 2016-01-09 15:23:22   \n",
      "12603   758755  2748     34121         0 2016-01-05 01:03:41   \n",
      "12604  1165475  4800      4290         0 2016-01-16 11:09:21   \n",
      "12605   601092  1874        95         0 2016-01-06 01:05:07   \n",
      "\n",
      "                                             LastResults  Verdict  Cycle  \n",
      "0      [0, 0, 0, 0, 0, 0, 0, 0, 0, 0, 0, 0, 0, 0, 0, ...        0    177  \n",
      "1      [0, 0, 0, 0, 0, 0, 0, 0, 0, 0, 0, 0, 0, 0, 0, ...        0     68  \n",
      "2      [0, 0, 0, 0, 0, 0, 0, 0, 0, 0, 0, 0, 0, 0, 0, ...        0    261  \n",
      "3      [0, 0, 0, 0, 0, 0, 0, 0, 0, 0, 0, 0, 0, 0, 0, ...        0    304  \n",
      "4      [0, 0, 0, 0, 0, 0, 0, 0, 0, 0, 0, 0, 1, 0, 0, ...        0     96  \n",
      "...                                                  ...      ...    ...  \n",
      "12601  [0, 0, 0, 0, 0, 0, 0, 0, 0, 0, 0, 0, 0, 0, 0, ...        0    170  \n",
      "12602  [0, 0, 0, 0, 0, 0, 0, 0, 0, 0, 0, 0, 0, 0, 0, ...        0    165  \n",
      "12603  [0, 0, 0, 0, 0, 0, 0, 0, 0, 0, 0, 0, 0, 0, 0, ...        0     74  \n",
      "12604  [0, 0, 0, 0, 0, 0, 0, 0, 0, 0, 0, 0, 0, 0, 0, ...        0    323  \n",
      "12605  [0, 0, 0, 0, 0, 0, 0, 0, 0, 0, 0, 0, 0, 0, 0, ...        0     96  \n",
      "\n",
      "[12606 rows x 8 columns]\n"
     ]
    }
   ]
  },
  {
   "cell_type": "code",
   "metadata": {
    "id": "X1LBLPhRrrSI",
    "colab_type": "code",
    "colab": {
     "base_uri": "https://localhost:8080/",
     "height": 265
    },
    "outputId": "3265fbd3-6781-4c75-e3b9-199adc5cd875"
   },
   "source": [
    "# Genarate ZeroCount. 统计倒数前n个 默认n=4\n",
    "df['LastResults'] = df['LastResults'].astype(str)\n",
    "n = 8\n",
    "# dfZeCo = df[df['LastResults'].str.len() > 9]\n",
    "def f(x):\n",
    "    x = x[::-1]\n",
    "    count = 0\n",
    "    for i in range(min(len(x), 3 * n - 1)):\n",
    "      if x[i] == '0':\n",
    "        count += 1\n",
    "    return count\n",
    "df['ZeroCount'] = df['LastResults'].apply(f)\n",
    "df['ZeroCountNormal'] = df['ZeroCount'].apply(lambda x : x / n)\n",
    "print(df)\n",
    "# df.to_csv('./'+ dataset + '_ZeroCount_' + 4 + '.csv', index=False)"
   ],
   "execution_count": 4,
   "outputs": [
    {
     "name": "stdout",
     "output_type": "stream",
     "text": [
      "            Id  Name  Duration  CalcPrio             LastRun  \\\n",
      "0       548888  1400       450         0 2016-01-10 03:37:20   \n",
      "1       195761   457     95430         0 2016-01-04 19:33:07   \n",
      "2       250961   559      6088         0 2016-01-13 15:49:38   \n",
      "3       685761  2415       330         0 2016-01-15 16:57:02   \n",
      "4      1058480  4496     26751         0 2016-01-06 01:07:20   \n",
      "...        ...   ...       ...       ...                 ...   \n",
      "12601   627216  2013       344         0 2016-01-09 20:25:53   \n",
      "12602   875511  3450      1052         0 2016-01-09 15:23:22   \n",
      "12603   758755  2748     34121         0 2016-01-05 01:03:41   \n",
      "12604  1165475  4800      4290         0 2016-01-16 11:09:21   \n",
      "12605   601092  1874        95         0 2016-01-06 01:05:07   \n",
      "\n",
      "                                             LastResults  Verdict  Cycle  \\\n",
      "0      [0, 0, 0, 0, 0, 0, 0, 0, 0, 0, 0, 0, 0, 0, 0, ...        0    177   \n",
      "1      [0, 0, 0, 0, 0, 0, 0, 0, 0, 0, 0, 0, 0, 0, 0, ...        0     68   \n",
      "2      [0, 0, 0, 0, 0, 0, 0, 0, 0, 0, 0, 0, 0, 0, 0, ...        0    261   \n",
      "3      [0, 0, 0, 0, 0, 0, 0, 0, 0, 0, 0, 0, 0, 0, 0, ...        0    304   \n",
      "4      [0, 0, 0, 0, 0, 0, 0, 0, 0, 0, 0, 0, 1, 0, 0, ...        0     96   \n",
      "...                                                  ...      ...    ...   \n",
      "12601  [0, 0, 0, 0, 0, 0, 0, 0, 0, 0, 0, 0, 0, 0, 0, ...        0    170   \n",
      "12602  [0, 0, 0, 0, 0, 0, 0, 0, 0, 0, 0, 0, 0, 0, 0, ...        0    165   \n",
      "12603  [0, 0, 0, 0, 0, 0, 0, 0, 0, 0, 0, 0, 0, 0, 0, ...        0     74   \n",
      "12604  [0, 0, 0, 0, 0, 0, 0, 0, 0, 0, 0, 0, 0, 0, 0, ...        0    323   \n",
      "12605  [0, 0, 0, 0, 0, 0, 0, 0, 0, 0, 0, 0, 0, 0, 0, ...        0     96   \n",
      "\n",
      "       ZeroCount  ZeroCountNormal  \n",
      "0              8              1.0  \n",
      "1              8              1.0  \n",
      "2              8              1.0  \n",
      "3              8              1.0  \n",
      "4              8              1.0  \n",
      "...          ...              ...  \n",
      "12601          8              1.0  \n",
      "12602          8              1.0  \n",
      "12603          8              1.0  \n",
      "12604          8              1.0  \n",
      "12605          8              1.0  \n",
      "\n",
      "[12606 rows x 10 columns]\n"
     ]
    }
   ]
  },
  {
   "cell_type": "code",
   "metadata": {
    "id": "FO4f_08xtrRz",
    "colab_type": "code",
    "colab": {
     "base_uri": "https://localhost:8080/",
     "height": 265
    },
    "outputId": "15643942-4035-4910-dba1-f9f2768de691"
   },
   "source": [
    "# Genarate IdleTime. 生成闲置时间，并删除无用数据\n",
    "lines = df.shape[0]\n",
    "df['IdleTime'] = [None] * lines\n",
    "dict = {}\n",
    "# key:df.loc[i, 'Name'] value:df.loc[i, 'LastRun']\n",
    "for i in range(0, lines):\n",
    "    key = df.loc[i, 'Name']\n",
    "    value = df.loc[i, 'LastRun']\n",
    "    if key in dict:\n",
    "        df.loc[i, 'IdleTime'] = df.loc[i, 'LastRun'] - dict[key]\n",
    "    dict[key] = value\n",
    "print(df.loc[0 : lines])"
   ],
   "execution_count": 8,
   "outputs": [
    {
     "name": "stdout",
     "output_type": "stream",
     "text": [
      "          Id    Name  Duration             LastRun  \\\n",
      "0          1   78082     57262 2015-02-13 16:13:00   \n",
      "1          2   78083     57145 2015-02-13 16:13:00   \n",
      "2          3   78084     56861 2015-02-13 16:13:00   \n",
      "3          4   78085     55332 2015-02-13 16:13:00   \n",
      "4          5   78086     59120 2015-02-13 16:13:00   \n",
      "...      ...     ...       ...                 ...   \n",
      "32255  32256   82981     57744 2016-10-25 16:18:00   \n",
      "32256  32257  102163     55844 2016-10-25 16:20:00   \n",
      "32257  32258  102162     55237 2016-10-25 16:20:00   \n",
      "32258  32259  124422     61682 2016-10-25 16:20:00   \n",
      "32259  32260  124086     62265 2016-10-25 16:20:00   \n",
      "\n",
      "                                             LastResults  Verdict  Cycle  \\\n",
      "0                                                     []        1      1   \n",
      "1                                                     []        1      1   \n",
      "2                                                     []        1      1   \n",
      "3                                                     []        1      1   \n",
      "4                                                     []        1      1   \n",
      "...                                                  ...      ...    ...   \n",
      "32255  [0, 1, 0, 0, 0, 1, 1, 1, 1, 1, 1, 0, 0, 0, 0, ...        0    320   \n",
      "32256  [0, 0, 0, 0, 0, 0, 1, 1, 1, 0, 1, 0, 0, 0, 0, ...        0    320   \n",
      "32257      [0, 1, 0, 0, 0, 0, 0, 1, 0, 0, 0, 0, 0, 0, 0]        0    320   \n",
      "32258                                       [0, 0, 1, 1]        0    320   \n",
      "32259                                       [0, 0, 0, 1]        0    320   \n",
      "\n",
      "       Stage  ZeroCount  ZeroCountNormal          IdleTime  \n",
      "0          1          0             0.00              None  \n",
      "1          1          0             0.00              None  \n",
      "2          1          0             0.00              None  \n",
      "3          1          0             0.00              None  \n",
      "4          1          0             0.00              None  \n",
      "...      ...        ...              ...               ...  \n",
      "32255    816          4             1.00  57 days 00:11:00  \n",
      "32256    816          2             0.50  67 days 02:33:00  \n",
      "32257    816          4             1.00  57 days 00:06:00  \n",
      "32258    816          2             0.50  67 days 02:33:00  \n",
      "32259    816          3             0.75  67 days 02:33:00  \n",
      "\n",
      "[32260 rows x 11 columns]\n"
     ]
    }
   ]
  },
  {
   "cell_type": "code",
   "metadata": {
    "id": "iHf4iPt0AaHu",
    "colab_type": "code",
    "colab": {
     "base_uri": "https://localhost:8080/",
     "height": 532
    },
    "outputId": "7fb25086-c39d-4f00-b65f-44508fab2555",
    "pycharm": {
     "name": "#%%\n"
    }
   },
   "source": [
    "# IdleTime 标准化\n",
    "import datetime\n",
    "from datetime import timedelta\n",
    "max = timedelta(days=0)\n",
    "for i in range(0, lines):\n",
    "  if df.loc[i, 'IdleTime'] != None and max < df.loc[i, 'IdleTime']:\n",
    "    max = df.loc[i, 'IdleTime']\n",
    "print(max)\n",
    "df['IdleTimeNormal'] = [None] * lines\n",
    "def r(x, y = max):\n",
    "  if pd.isnull(x):\n",
    "    return 0\n",
    "  return x / y;\n",
    "df['IdleTimeNormal'] = df['IdleTime'].apply(r)\n",
    "# for i in range(0, 32260):\n",
    "#   if df.loc[i, 'IdleTimeNormal'] == None:\n",
    "#     df.loc[i, 'IdleTimeNormal'] = 0\n",
    "\n",
    "# 剩余标准化\n",
    "df[['DurationNormal', 'CycleNormal']] = df[['Duration', 'Cycle']].apply(lambda x: (x - np.min(x)) / (np.max(x) - np.min(x)))\n",
    "print(df.loc[0 : lines])\n",
    "\n",
    "# 删除无用数据\n",
    "df = df[['DurationNormal', 'CycleNormal', 'IdleTimeNormal', 'ZeroCountNormal', 'Verdict']]\n",
    "df = df.round(5)\n",
    "print(df.loc[0 : lines])\n",
    "\n",
    "# 输出\n",
    "df.to_csv('./' + dataset + '_normal.csv', index=False, sep=' ')"
   ],
   "execution_count": 9,
   "outputs": [
    {
     "name": "stdout",
     "output_type": "stream",
     "text": [
      "203 days 19:56:00\n",
      "          Id    Name  Duration             LastRun  \\\n",
      "0          1   78082     57262 2015-02-13 16:13:00   \n",
      "1          2   78083     57145 2015-02-13 16:13:00   \n",
      "2          3   78084     56861 2015-02-13 16:13:00   \n",
      "3          4   78085     55332 2015-02-13 16:13:00   \n",
      "4          5   78086     59120 2015-02-13 16:13:00   \n",
      "...      ...     ...       ...                 ...   \n",
      "32255  32256   82981     57744 2016-10-25 16:18:00   \n",
      "32256  32257  102163     55844 2016-10-25 16:20:00   \n",
      "32257  32258  102162     55237 2016-10-25 16:20:00   \n",
      "32258  32259  124422     61682 2016-10-25 16:20:00   \n",
      "32259  32260  124086     62265 2016-10-25 16:20:00   \n",
      "\n",
      "                                             LastResults  Verdict  Cycle  \\\n",
      "0                                                     []        1      1   \n",
      "1                                                     []        1      1   \n",
      "2                                                     []        1      1   \n",
      "3                                                     []        1      1   \n",
      "4                                                     []        1      1   \n",
      "...                                                  ...      ...    ...   \n",
      "32255  [0, 1, 0, 0, 0, 1, 1, 1, 1, 1, 1, 0, 0, 0, 0, ...        0    320   \n",
      "32256  [0, 0, 0, 0, 0, 0, 1, 1, 1, 0, 1, 0, 0, 0, 0, ...        0    320   \n",
      "32257      [0, 1, 0, 0, 0, 0, 0, 1, 0, 0, 0, 0, 0, 0, 0]        0    320   \n",
      "32258                                       [0, 0, 1, 1]        0    320   \n",
      "32259                                       [0, 0, 0, 1]        0    320   \n",
      "\n",
      "       Stage  ZeroCount  ZeroCountNormal          IdleTime  IdleTimeNormal  \\\n",
      "0          1          0             0.00              None        0.000000   \n",
      "1          1          0             0.00              None        0.000000   \n",
      "2          1          0             0.00              None        0.000000   \n",
      "3          1          0             0.00              None        0.000000   \n",
      "4          1          0             0.00              None        0.000000   \n",
      "...      ...        ...              ...               ...             ...   \n",
      "32255    816          4             1.00  57 days 00:11:00        0.279682   \n",
      "32256    816          2             0.50  67 days 02:33:00        0.329226   \n",
      "32257    816          4             1.00  57 days 00:06:00        0.279664   \n",
      "32258    816          2             0.50  67 days 02:33:00        0.329226   \n",
      "32259    816          3             0.75  67 days 02:33:00        0.329226   \n",
      "\n",
      "       DurationNormal  CycleNormal  \n",
      "0            0.063845          0.0  \n",
      "1            0.063709          0.0  \n",
      "2            0.063378          0.0  \n",
      "3            0.061597          0.0  \n",
      "4            0.066010          0.0  \n",
      "...               ...          ...  \n",
      "32255        0.064407          1.0  \n",
      "32256        0.062193          1.0  \n",
      "32257        0.061486          1.0  \n",
      "32258        0.068994          1.0  \n",
      "32259        0.069674          1.0  \n",
      "\n",
      "[32260 rows x 14 columns]\n",
      "       DurationNormal  CycleNormal  IdleTimeNormal  ZeroCountNormal  Verdict\n",
      "0             0.06385          0.0         0.00000             0.00        1\n",
      "1             0.06371          0.0         0.00000             0.00        1\n",
      "2             0.06338          0.0         0.00000             0.00        1\n",
      "3             0.06160          0.0         0.00000             0.00        1\n",
      "4             0.06601          0.0         0.00000             0.00        1\n",
      "...               ...          ...             ...              ...      ...\n",
      "32255         0.06441          1.0         0.27968             1.00        0\n",
      "32256         0.06219          1.0         0.32923             0.50        0\n",
      "32257         0.06149          1.0         0.27966             1.00        0\n",
      "32258         0.06899          1.0         0.32923             0.50        0\n",
      "32259         0.06967          1.0         0.32923             0.75        0\n",
      "\n",
      "[32260 rows x 5 columns]\n"
     ]
    }
   ]
  },
  {
   "cell_type": "code",
   "execution_count": 5,
   "outputs": [],
   "source": [
    "# 临时缩放\n",
    "import matplotlib as mlp\n",
    "import pandas as pd\n",
    "import numpy as np\n",
    "dataset = 'rails'\n",
    "df = pd.read_csv('./' + dataset + '_normal.csv', sep=' ')\n",
    "df['IdleTimeNormal'] = df['IdleTimeNormal'].apply(lambda x: x * 10)\n",
    "df['DurationNormal'] = df['DurationNormal'].apply(lambda x: x * 10)\n",
    "df.to_csv('./' + dataset + '_normal.csv', index=False, sep=' ')\n"
   ],
   "metadata": {
    "collapsed": false,
    "pycharm": {
     "name": "#%%\n"
    }
   }
  }
 ]
}