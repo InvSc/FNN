{
 "cells": [
  {
   "cell_type": "code",
   "execution_count": null,
   "metadata": {
    "collapsed": true
   },
   "outputs": [],
   "source": [
    "# 抽取打乱\n",
    "import pandas as pd\n",
    "df = pd.read_csv('./gsdtsr.csv', sep=';', index_col='Id')\n",
    "df = df.sample(frac=0.01, replace=False, random_state=None, axis=0)\n",
    "df.to_csv('./gsdtsr.csv')"
   ]
  },
  {
   "cell_type": "code",
   "execution_count": 21,
   "metadata": {
    "pycharm": {
     "name": "#%%\n"
    }
   },
   "outputs": [
    {
     "name": "stdout",
     "output_type": "stream",
     "text": [
      "      DurationNormal,CycleNormal,IdleTimeNormal,ZeroCountNormal,Verdict\n",
      "0                                2e-05,0.52537,0.0,1.0,0               \n",
      "1                                  0.00483,0.2,0.0,1.0,0               \n",
      "2                              0.00031,0.77612,0.0,1.0,0               \n",
      "3                                1e-05,0.90448,0.0,1.0,0               \n",
      "4                              0.00135,0.28358,0.0,1.0,0               \n",
      "...                                                  ...               \n",
      "12601                        2e-05,0.50448,0.16233,1.0,0               \n",
      "12602                        5e-05,0.48955,0.18592,1.0,0               \n",
      "12603                     0.00172,0.21791,-0.15825,1.0,0               \n",
      "12604                      0.00021,0.96119,0.14494,1.0,0               \n",
      "12605                              0.0,0.28358,0.0,1.0,0               \n",
      "\n",
      "[12606 rows x 1 columns]\n"
     ]
    }
   ],
   "source": [
    "# 仅打乱\n",
    "import pandas as pd\n",
    "data = 'gsdtsr'\n",
    "df = pd.read_csv('./' + data + '_normal.csv', delim_whitespace=True)\n",
    "print(df)\n",
    "# df = df.sample(frac=1, replace=False, random_state=None, axis=0)\n",
    "df = df.round(5)\n",
    "df.to_csv('./' + data + '_normal.csv', index=False, sep=' ')"
   ]
  },
  {
   "cell_type": "code",
   "execution_count": 23,
   "outputs": [
    {
     "name": "stdout",
     "output_type": "stream",
     "text": [
      "      DurationNormal  CycleNormal  IdleTimeNormal  ZeroCountNormal  Verdict\n",
      "0             0.0011      0.85456          0.0000              1.0        0\n",
      "1             0.0459      0.99908          0.0000              1.0        0\n",
      "2             0.0485      0.91899          0.0000              1.0        0\n",
      "3             0.0060      0.94508          0.0000              1.0        0\n",
      "4             0.0017      0.14698          0.0000              1.0        0\n",
      "...              ...          ...             ...              ...      ...\n",
      "7808          0.0413      0.65204         -1.0890              1.0        0\n",
      "7809          0.0012      0.07732         -1.8307              1.0        0\n",
      "7810          1.7840      0.77232         -0.7115              1.0        0\n",
      "7811          0.0338      0.65910          1.9354              1.0        0\n",
      "7812          3.5383      0.61338         -2.0085              1.0        0\n",
      "\n",
      "[7813 rows x 5 columns]\n"
     ]
    }
   ],
   "source": [
    "# 改变sep\n",
    "import pandas as pd\n",
    "data = 'rails'\n",
    "df = pd.read_csv('./' + data + '_normal.csv', sep=',')\n",
    "print(df)\n",
    "df = df.round(5)\n",
    "df.to_csv('./' + data + '_normal.csv', index=False, sep=' ')\n"
   ],
   "metadata": {
    "collapsed": false,
    "pycharm": {
     "name": "#%%\n"
    }
   }
  }
 ],
 "metadata": {
  "kernelspec": {
   "display_name": "Python 3",
   "language": "python",
   "name": "python3"
  },
  "language_info": {
   "codemirror_mode": {
    "name": "ipython",
    "version": 3
   },
   "file_extension": ".py",
   "mimetype": "text/x-python",
   "name": "python",
   "nbconvert_exporter": "python",
   "pygments_lexer": "ipython3",
   "version": "3.7.6"
  }
 },
 "nbformat": 4,
 "nbformat_minor": 1
}