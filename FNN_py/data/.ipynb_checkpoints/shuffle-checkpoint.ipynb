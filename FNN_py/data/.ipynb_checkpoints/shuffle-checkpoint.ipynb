{
 "cells": [
  {
   "cell_type": "code",
   "execution_count": null,
   "metadata": {
    "collapsed": true
   },
   "outputs": [],
   "source": [
    "import pandas as pd\n",
    "df = pd.read_csv('.\\\\gsdtsr.csv', sep=';', index_col='Id')\n",
    "df = df.sample(frac=0.01, replace=False, random_state=None, axis=0)\n",
    "df.to_csv('.\\\\gsdtsr.csv')"
   ]
  },
  {
   "cell_type": "code",
   "execution_count": 4,
   "metadata": {
    "pycharm": {
     "name": "#%%\n"
    }
   },
   "outputs": [
    {
     "name": "stdout",
     "output_type": "stream",
     "text": [
      "         Name  Duration  CalcPrio              LastRun  \\\n",
      "Id                                                       \n",
      "115         1     34271         0  2016-01-03 19:34:10   \n",
      "154         1     31055         0  2016-01-04 09:36:58   \n",
      "169         1     30041         0  2016-01-04 11:30:51   \n",
      "188         1     36617         0  2016-01-04 16:59:47   \n",
      "203         1     31184         0  2016-01-04 22:35:36   \n",
      "...       ...       ...       ...                  ...   \n",
      "1260072  5488      2483         0  2016-02-01 22:25:04   \n",
      "1260212  5498       124         0  2016-02-01 22:57:54   \n",
      "1260366  5510       321         0  2016-02-01 20:47:31   \n",
      "1260380  5512       260         0  2016-02-01 20:23:23   \n",
      "1260579  5535       527         0  2016-02-01 23:18:03   \n",
      "\n",
      "                                               LastResults  Verdict  Cycle  \n",
      "Id                                                                          \n",
      "115      [0, 0, 0, 0, 0, 0, 0, 0, 0, 0, 0, 0, 0, 0, 0, ...        0     44  \n",
      "154      [0, 0, 0, 0, 0, 0, 0, 0, 0, 0, 0, 0, 0, 0, 0, ...        0     58  \n",
      "169      [0, 0, 0, 0, 0, 0, 0, 0, 0, 0, 0, 0, 0, 0, 0, ...        0     60  \n",
      "188      [0, 0, 0, 0, 0, 0, 0, 0, 0, 0, 0, 0, 0, 0, 0, ...        0     65  \n",
      "203      [0, 0, 0, 0, 0, 0, 0, 0, 0, 0, 0, 0, 0, 0, 0, ...        0     71  \n",
      "...                                                    ...      ...    ...  \n",
      "1260072                     [0, 0, 0, 0, 0, 0, 0, 0, 0, 0]        0    335  \n",
      "1260212                  [0, 0, 0, 0, 0, 0, 0, 0, 0, 0, 0]        0    335  \n",
      "1260366                                             [0, 0]        0    333  \n",
      "1260380                                                [0]        0    333  \n",
      "1260579                                 [0, 0, 0, 0, 0, 0]        0    336  \n",
      "\n",
      "[12606 rows x 7 columns]\n"
     ]
    }
   ],
   "source": [
    "import pandas as pd\n",
    "df = pd.read_csv('.\\\\gsdtsr.csv', sep=',', index_col='Id')\n",
    "df.sort_values('Id', inplace=True)\n",
    "print(df)\n"
   ]
  }
 ],
 "metadata": {
  "kernelspec": {
   "display_name": "Python 3",
   "language": "python",
   "name": "python3"
  },
  "language_info": {
   "codemirror_mode": {
    "name": "ipython",
    "version": 3
   },
   "file_extension": ".py",
   "mimetype": "text/x-python",
   "name": "python",
   "nbconvert_exporter": "python",
   "pygments_lexer": "ipython3",
   "version": "3.7.6"
  }
 },
 "nbformat": 4,
 "nbformat_minor": 1
}
